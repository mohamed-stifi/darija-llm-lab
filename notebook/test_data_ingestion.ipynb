{
 "cells": [
  {
   "cell_type": "code",
   "execution_count": 1,
   "id": "82d7c7d1-0e44-4d67-a01b-5fbbbb71e27f",
   "metadata": {},
   "outputs": [],
   "source": [
    "# !git clone https://github.com/mohamed-stifi/darija-llm-lab.git"
   ]
  },
  {
   "cell_type": "code",
   "execution_count": 2,
   "id": "32da05c3-8ab8-4db6-816a-8fe84f0ff831",
   "metadata": {},
   "outputs": [],
   "source": [
    "#%%capture\n",
    "#!python -m pip install --upgrade pip\n",
    "#!pip install uv\n",
    "#!uv pip install --system -r requirements.txt"
   ]
  },
  {
   "cell_type": "code",
   "execution_count": 3,
   "id": "cf5b7338-bd53-4d00-8d3c-580ce06e7c62",
   "metadata": {},
   "outputs": [],
   "source": [
    "#import os\n",
    "#os.chdir(\"darija-llm-lab\")"
   ]
  },
  {
   "cell_type": "code",
   "execution_count": 4,
   "id": "d58cb5cc-69cf-40ce-8d2f-43f997038a86",
   "metadata": {},
   "outputs": [
    {
     "name": "stdout",
     "output_type": "stream",
     "text": [
      "/home/mohamed-stifi/Desktop/intern-at-nia-gen/darija-llm-lab\n"
     ]
    }
   ],
   "source": [
    "import os\n",
    "os.chdir(\"../\")\n",
    "!pwd"
   ]
  },
  {
   "cell_type": "code",
   "execution_count": 5,
   "id": "fee0c252-b81b-4270-978e-45ea14cd862d",
   "metadata": {},
   "outputs": [
    {
     "name": "stderr",
     "output_type": "stream",
     "text": [
      "/home/mohamed-stifi/Desktop/intern-at-nia-gen/darija-llm-lab/.darija-env/lib/python3.12/site-packages/tqdm/auto.py:21: TqdmWarning: IProgress not found. Please update jupyter and ipywidgets. See https://ipywidgets.readthedocs.io/en/stable/user_install.html\n",
      "  from .autonotebook import tqdm as notebook_tqdm\n"
     ]
    }
   ],
   "source": [
    "from darija_llm_lab.components.data_ingestion import DataIngestion\n",
    "from darija_llm_lab.utils.common import ConfigurationManager"
   ]
  },
  {
   "cell_type": "code",
   "execution_count": 6,
   "id": "d26389df-a2e6-4427-b7c3-39f7ba3ef5b6",
   "metadata": {},
   "outputs": [
    {
     "name": "stderr",
     "output_type": "stream",
     "text": [
      "2025-08-11 15:29:54,264 - darija_llm_lab.utils.common - INFO - yaml file: config/config.yaml loaded successfully\n"
     ]
    }
   ],
   "source": [
    "from pathlib import Path\n",
    "config_manager = ConfigurationManager(config_filepath=\"config/config.yaml\")"
   ]
  },
  {
   "cell_type": "code",
   "execution_count": 7,
   "id": "892bd48a-ef06-4c82-8add-f775e9c4bfd3",
   "metadata": {},
   "outputs": [],
   "source": [
    "# 1. Get configs\n",
    "model_cfg = config_manager.get_model_config()\n",
    "dapt_cfg = config_manager.get_dapt_config()\n",
    "sft_config = config_manager.get_sft_config()\n",
    "new_tokens = config_manager.new_tokens\n",
    "wandb_config = config_manager.get_wandb_config()\n",
    "optuna_config = config_manager.get_optuna_config()"
   ]
  },
  {
   "cell_type": "code",
   "execution_count": 9,
   "id": "be93ff6b",
   "metadata": {},
   "outputs": [
    {
     "data": {
      "text/plain": [
       "DAPTConfig(output_model_path=PosixPath('artifacts/models/gemma-3n-E2B-it-darija-adapted'), data=DAPTDataConfig(dataset_id='mohamed-stifi/darija-combined-dataset', text_column='text', debug_mode=True, debug_split_size=5000), trainer=DAPTTrainerConfig(output_dir='artifacts/dapt_training_results', per_device_train_batch_size=8, gradient_accumulation_steps=8, max_steps=200, learning_rate=5e-06, logging_steps=10, save_steps=50, warmup_steps=20, seed=3407, optim='adamw_torch', weight_decay=0.01))"
      ]
     },
     "execution_count": 9,
     "metadata": {},
     "output_type": "execute_result"
    }
   ],
   "source": [
    "dapt_cfg"
   ]
  },
  {
   "cell_type": "code",
   "execution_count": 8,
   "id": "40a152af",
   "metadata": {},
   "outputs": [
    {
     "data": {
      "text/plain": [
       "DAPTDataConfig(dataset_id='mohamed-stifi/darija-combined-dataset', text_column='text', debug_mode=True, debug_split_size=5000)"
      ]
     },
     "execution_count": 8,
     "metadata": {},
     "output_type": "execute_result"
    }
   ],
   "source": [
    "dapt_cfg.data"
   ]
  },
  {
   "cell_type": "code",
   "execution_count": null,
   "id": "da4eebd7",
   "metadata": {},
   "outputs": [],
   "source": []
  },
  {
   "cell_type": "code",
   "execution_count": null,
   "id": "644f5a5f-541a-48b9-ab89-ea3dabe1c5e4",
   "metadata": {},
   "outputs": [],
   "source": [
    "data_ingestion = DataIngestion()\n",
    "train_dataset = data_ingestion.load_dapt_dataset(dapt_cfg.data, tokenizer)"
   ]
  }
 ],
 "metadata": {
  "kernelspec": {
   "display_name": ".darija-env",
   "language": "python",
   "name": "python3"
  },
  "language_info": {
   "codemirror_mode": {
    "name": "ipython",
    "version": 3
   },
   "file_extension": ".py",
   "mimetype": "text/x-python",
   "name": "python",
   "nbconvert_exporter": "python",
   "pygments_lexer": "ipython3",
   "version": "3.12.3"
  }
 },
 "nbformat": 4,
 "nbformat_minor": 5
}
