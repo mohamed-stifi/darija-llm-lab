{
 "cells": [
  {
   "cell_type": "code",
   "execution_count": null,
   "id": "a62edf67",
   "metadata": {},
   "outputs": [],
   "source": [
    "import os\n",
    "os.chdir(\"../\")\n",
    "\n",
    "\n",
    "%pwd"
   ]
  },
  {
   "cell_type": "code",
   "execution_count": null,
   "id": "c5b7ee18",
   "metadata": {},
   "outputs": [],
   "source": [
    "from darija_llm_lab.config.configuration import ConfigurationManager\n",
    "from darija_llm_lab.components.data_ingestion import DataIngestion\n",
    "from dotenv import load_dotenv\n",
    "\n",
    "\n",
    "load_dotenv()"
   ]
  },
  {
   "cell_type": "code",
   "execution_count": null,
   "id": "1926c0e4",
   "metadata": {},
   "outputs": [],
   "source": [
    "config = ConfigurationManager()\n",
    "data_ingestion_config = config.get_data_ingestion_config()"
   ]
  },
  {
   "cell_type": "code",
   "execution_count": null,
   "id": "48c68b95",
   "metadata": {},
   "outputs": [],
   "source": [
    "print(data_ingestion_config)"
   ]
  },
  {
   "cell_type": "code",
   "execution_count": null,
   "id": "c1381f34",
   "metadata": {},
   "outputs": [],
   "source": [
    "data_ingestion = DataIngestion(data_ingestion_config)"
   ]
  },
  {
   "cell_type": "code",
   "execution_count": null,
   "id": "c6bd6858",
   "metadata": {},
   "outputs": [],
   "source": [
    "result = data_ingestion.ingest_data()"
   ]
  },
  {
   "cell_type": "code",
   "execution_count": null,
   "id": "be95bb21",
   "metadata": {},
   "outputs": [],
   "source": [
    "print(f\"\\nIngestion completed successfully!\")\n",
    "print(f\"Total texts: {result.total_texts}\")\n",
    "print(f\"Total characters: {result.total_characters}\")\n",
    "print(f\"Processing time: {result.processing_time:.2f} seconds\")\n",
    "\n",
    "if result.hub_url:\n",
    "    print(f\"Dataset uploaded to Hugging Face: {result.hub_url}\")"
   ]
  },
  {
   "cell_type": "code",
   "execution_count": null,
   "metadata": {},
   "outputs": [],
   "source": []
  }
 ],
 "metadata": {
  "kernelspec": {
   "display_name": ".darija-env",
   "language": "python",
   "name": "python3"
  },
  "language_info": {
   "codemirror_mode": {
    "name": "ipython",
    "version": 3
   },
   "file_extension": ".py",
   "mimetype": "text/x-python",
   "name": "python",
   "nbconvert_exporter": "python",
   "pygments_lexer": "ipython3",
   "version": "3.12.3"
  }
 },
 "nbformat": 4,
 "nbformat_minor": 5
}
