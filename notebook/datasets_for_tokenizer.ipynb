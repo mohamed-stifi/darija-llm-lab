{
 "cells": [
  {
   "cell_type": "code",
   "execution_count": null,
   "id": "a670650b",
   "metadata": {},
   "outputs": [],
   "source": [
    "import os\n",
    "os.chdir(\"..\")\n",
    "\n",
    "%pwd"
   ]
  },
  {
   "cell_type": "code",
   "execution_count": null,
   "id": "42d6adb6",
   "metadata": {},
   "outputs": [],
   "source": [
    "from darija_llm_lab.components.data_ingestion.dataset_strategy import (DarijaPattern,\n",
    "                                                                       AudioData, DODaAudio, FilteredSamples,\n",
    "                                                                       WikipediaDarija, IADDDarija, OpenaiGsm8kDarija,\n",
    "                                                                       DarijaBanking)\n",
    "from dotenv import load_dotenv\n"
   ]
  },
  {
   "cell_type": "code",
   "execution_count": null,
   "id": "4880ed88",
   "metadata": {},
   "outputs": [],
   "source": [
    "from darija_llm_lab.components.data_ingestion.dataset_factory import DatasetStrategyFactory"
   ]
  },
  {
   "cell_type": "code",
   "execution_count": null,
   "id": "30b3bd2a",
   "metadata": {},
   "outputs": [],
   "source": [
    "load_dotenv()"
   ]
  },
  {
   "cell_type": "markdown",
   "id": "ab7d8fff",
   "metadata": {},
   "source": [
    "DarijaPattern"
   ]
  },
  {
   "cell_type": "code",
   "execution_count": null,
   "metadata": {},
   "outputs": [],
   "source": [
    "data_path = \"./data/DarijaPattern.txt\"\n",
    "darija_pattern = DarijaPattern(data_path)\n",
    "\n",
    "data = darija_pattern.load_dataset_for_train_tokenizer()\n",
    "print(\n",
    "    f\"the data {darija_pattern.get_strategy_name()} is loaded with {len(data)} examples.\\n\"\n",
    "    \"here is some examples:\\n\"\n",
    "    f\"{data[:5]}\"\n",
    ")"
   ]
  },
  {
   "cell_type": "markdown",
   "id": "33399882",
   "metadata": {},
   "source": [
    "AudioData"
   ]
  },
  {
   "cell_type": "code",
   "execution_count": null,
   "id": "68cb52a9",
   "metadata": {},
   "outputs": [],
   "source": [
    "data_path = \"/home/mohamed-stifi/Desktop/intern-at-nia-gen/darija-llm-lab/data/audio_data.csv\"\n",
    "audio_data = AudioData(data_path)\n",
    "\n",
    "data = audio_data.load_dataset_for_train_tokenizer()\n",
    "print(\n",
    "    f\"the data {audio_data.get_strategy_name()} is loaded with {len(data)} examples.\\n\"\n",
    "    \"here is some examples:\\n\"\n",
    "    f\"{data[:5]}\"\n",
    ")"
   ]
  },
  {
   "cell_type": "markdown",
   "id": "471ebcbd",
   "metadata": {},
   "source": [
    "DODaAudio"
   ]
  },
  {
   "cell_type": "code",
   "execution_count": null,
   "metadata": {},
   "outputs": [],
   "source": [
    "data_path = \"atlasia/DODa-audio-dataset\"\n",
    "doda_audio = DODaAudio(data_path)\n",
    "\n",
    "data = doda_audio.load_dataset_for_train_tokenizer()"
   ]
  },
  {
   "cell_type": "code",
   "execution_count": null,
   "id": "de6fb79f",
   "metadata": {},
   "outputs": [],
   "source": [
    "print(\n",
    "    f\"the data {doda_audio.get_strategy_name()} is loaded with {len(data)} examples.\\n\"\n",
    "    \"here is some examples:\\n\"\n",
    "    f\"{data[:5]}\"\n",
    ")"
   ]
  },
  {
   "cell_type": "markdown",
   "id": "9bf08c08",
   "metadata": {},
   "source": [
    "FilteredSamples"
   ]
  },
  {
   "cell_type": "code",
   "execution_count": null,
   "metadata": {},
   "outputs": [],
   "source": [
    "data_path = \"medmac01/filtered_samples\"\n",
    "filtered_samples = FilteredSamples(data_path)\n",
    "\n",
    "data = filtered_samples.load_dataset_for_train_tokenizer()"
   ]
  },
  {
   "cell_type": "code",
   "execution_count": null,
   "metadata": {},
   "outputs": [],
   "source": [
    "print(\n",
    "    f\"the data {filtered_samples.get_strategy_name()} is loaded with {len(data)} examples.\\n\"\n",
    "    \"here is some examples:\\n\"\n",
    "    f\"{data[:5]}\"\n",
    ")"
   ]
  },
  {
   "cell_type": "markdown",
   "id": "805917f6",
   "metadata": {},
   "source": [
    "WikipediaDarija"
   ]
  },
  {
   "cell_type": "code",
   "execution_count": null,
   "metadata": {},
   "outputs": [],
   "source": [
    "data_path = \"AbderrahmanSkiredj1/moroccan_darija_wikipedia_dataset\"\n",
    "wikipedia_darija = WikipediaDarija(data_path)\n",
    "\n",
    "data = wikipedia_darija.load_dataset_for_train_tokenizer()"
   ]
  },
  {
   "cell_type": "code",
   "execution_count": null,
   "metadata": {},
   "outputs": [],
   "source": [
    "print(\n",
    "    f\"the data {wikipedia_darija.get_strategy_name()} is loaded with {len(data)} examples.\\n\"\n",
    "    \"here is some examples:\\n\"\n",
    "    f\"{data[:5]}\"\n",
    ")"
   ]
  },
  {
   "cell_type": "markdown",
   "id": "a83b7892",
   "metadata": {},
   "source": [
    "IADDDarija"
   ]
  },
  {
   "cell_type": "code",
   "execution_count": null,
   "id": "388bddfa",
   "metadata": {},
   "outputs": [],
   "source": [
    "data_path = \"AbderrahmanSkiredj1/IADD_darija_sentences\"\n",
    "iadd_darija = IADDDarija(data_path)\n",
    "\n",
    "data = iadd_darija.load_dataset_for_train_tokenizer()"
   ]
  },
  {
   "cell_type": "code",
   "execution_count": null,
   "id": "7784ec6d",
   "metadata": {},
   "outputs": [],
   "source": [
    "print(\n",
    "    f\"the data {iadd_darija.get_strategy_name()} is loaded with {len(data)} examples.\\n\"\n",
    "    \"here is some examples:\\n\"\n",
    "    f\"{data[:5]}\"\n",
    ")"
   ]
  },
  {
   "cell_type": "markdown",
   "id": "bf09a10a",
   "metadata": {},
   "source": [
    "OpenaiGsm8kDarija"
   ]
  },
  {
   "cell_type": "code",
   "execution_count": null,
   "metadata": {},
   "outputs": [],
   "source": [
    "data_path = \"AbderrahmanSkiredj1/openai_gsm8k_test_darija\"\n",
    "openai_gsm8k_darija = OpenaiGsm8kDarija(data_path)\n",
    "\n",
    "data = openai_gsm8k_darija.load_dataset_for_train_tokenizer()"
   ]
  },
  {
   "cell_type": "code",
   "execution_count": null,
   "metadata": {},
   "outputs": [],
   "source": [
    "print(\n",
    "    f\"the data {openai_gsm8k_darija.get_strategy_name()} is loaded with {len(data)} examples.\\n\"\n",
    "    \"here is some examples:\\n\"\n",
    "    f\"{data[:5]}\"\n",
    ")"
   ]
  },
  {
   "cell_type": "markdown",
   "id": "005768ed",
   "metadata": {},
   "source": [
    "DarijaBanking"
   ]
  },
  {
   "cell_type": "code",
   "execution_count": null,
   "id": "642b108c",
   "metadata": {},
   "outputs": [],
   "source": [
    "data_path = \"AbderrahmanSkiredj1/DarijaBanking\"\n",
    "darija_banking = DarijaBanking(data_path)\n",
    "\n",
    "data = darija_banking.load_dataset_for_train_tokenizer()"
   ]
  },
  {
   "cell_type": "code",
   "execution_count": null,
   "metadata": {},
   "outputs": [],
   "source": [
    "print(\n",
    "    f\"the data {darija_banking.get_strategy_name()} is loaded with {len(data)} examples.\\n\"\n",
    "    \"here is some examples:\\n\"\n",
    "    f\"{data[:5]}\"\n",
    ")"
   ]
  },
  {
   "cell_type": "markdown",
   "id": "b53b0892",
   "metadata": {},
   "source": [
    "DatasetStrategyFactory"
   ]
  },
  {
   "cell_type": "code",
   "execution_count": null,
   "metadata": {},
   "outputs": [],
   "source": [
    "factory = DatasetStrategyFactory()\n",
    "factory.get_available_strategies()"
   ]
  },
  {
   "cell_type": "code",
   "execution_count": null,
   "metadata": {},
   "outputs": [],
   "source": [
    "darija_strategy = DatasetStrategyFactory.create(\n",
    "        strategy_type=\"darija_pattern\",\n",
    "        path= \"./data/DarijaPattern.txt\",\n",
    "        name=\"Darija Dataset\"\n",
    "    )"
   ]
  },
  {
   "cell_type": "code",
   "execution_count": null,
   "metadata": {},
   "outputs": [],
   "source": [
    "type(darija_strategy)"
   ]
  },
  {
   "cell_type": "code",
   "execution_count": null,
   "metadata": {},
   "outputs": [],
   "source": []
  },
  {
   "cell_type": "code",
   "execution_count": null,
   "metadata": {},
   "outputs": [],
   "source": []
  },
  {
   "cell_type": "code",
   "execution_count": null,
   "metadata": {},
   "outputs": [],
   "source": []
  }
 ],
 "metadata": {
  "kernelspec": {
   "display_name": ".darija-env",
   "language": "python",
   "name": "python3"
  },
  "language_info": {
   "codemirror_mode": {
    "name": "ipython",
    "version": 3
   },
   "file_extension": ".py",
   "mimetype": "text/x-python",
   "name": "python",
   "nbconvert_exporter": "python",
   "pygments_lexer": "ipython3",
   "version": "3.12.3"
  }
 },
 "nbformat": 4,
 "nbformat_minor": 5
}
